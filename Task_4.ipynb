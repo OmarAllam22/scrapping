{
 "cells": [
  {
   "cell_type": "code",
   "execution_count": null,
   "metadata": {},
   "outputs": [],
   "source": [
    "# code for one Page:\n",
    "\n",
    "\n",
    "import pandas as pd\n",
    "from unicodedata import name\n",
    "import requests\n",
    "from bs4 import BeautifulSoup\n",
    "\n",
    "df = pd.DataFrame({\"name\":[\"first\"] , \"Publisher\" :[\"first\"] , \"author\":[\"first\"],\"year\":[\"first\"]})\n",
    "\n",
    "\n",
    "\n",
    "\n",
    "url = f'https://eg1lib.org/s/social%20media?page=1'\n",
    "\n",
    "html = requests.get(url)\n",
    "\n",
    "\n",
    "soup = BeautifulSoup(html.text)\n",
    "\n",
    "mylist = []\n",
    "for i in range(50):\n",
    "    ids = soup.find_all( \"tr\" ,  {'class': \"bookRow\"})\n",
    "    ids[i]\n",
    "\n",
    "    book_name = ids[i].find_all('h3', {\"itemprop\":'name'})\n",
    "    b = book_name[0].text.strip()\n",
    "\n",
    "    try :\n",
    "        Publisher = ids[i].find_all('a', {\"title\":\"Publisher\"})\n",
    "        P = Publisher[0].text\n",
    "    except:\n",
    "        P = \"Non-exist\"\n",
    "    author= ids[i].find_all('a', {'itemprop' :\"author\"})\n",
    "    a = author[0].text\n",
    "\n",
    "    year= ids[i].find_all('div', {'class' :\"property_value\"})\n",
    "    y = year[0].text\n",
    "\n",
    "    mylist.append([b,P,a,y])\n",
    "    df.loc[len(df.index)] = [b,P,a,y]\n",
    "df = df.drop(0)\n",
    "df"
   ]
  },
  {
   "cell_type": "code",
   "execution_count": null,
   "metadata": {},
   "outputs": [],
   "source": [
    "#code for multiple pages\n",
    "\n",
    "import pandas as pd\n",
    "from unicodedata import name\n",
    "import requests\n",
    "from bs4 import BeautifulSoup\n",
    "\n",
    "df = pd.DataFrame()\n",
    "\n",
    "pages= []\n",
    "\n",
    "for count in range(1,11):\n",
    "    url = f'https://eg1lib.org/s/social%20media?page={count}'\n",
    "\n",
    "    html = requests.get(url)\n",
    "\n",
    "\n",
    "    soup = BeautifulSoup(html.text)\n",
    "\n",
    "    mylist = []\n",
    "    for i in range(50):\n",
    "        ids = soup.find_all( \"tr\" ,  {'class': \"bookRow\"})\n",
    "        ids[i]\n",
    "\n",
    "        book_name = ids[i].find_all('h3', {\"itemprop\":'name'})\n",
    "        b = book_name[0].text.strip()\n",
    "\n",
    "        try :\n",
    "            Publisher = ids[i].find_all('a', {\"title\":\"Publisher\"})\n",
    "            P = Publisher[0].text\n",
    "        except:\n",
    "            P = \"Non-exist\"\n",
    "        author= ids[i].find_all('a', {'itemprop' :\"author\"})\n",
    "        a = author[0].text\n",
    "\n",
    "        year= ids[i].find_all('div', {'class' :\"property_value\"})\n",
    "        y = year[0].text\n",
    "\n",
    "        mylist.append([b,P,a,y])\n",
    "    pages.append(mylist)"
   ]
  },
  {
   "cell_type": "markdown",
   "metadata": {},
   "source": [
    "# Problem 1:\n",
    "https://codeforces.com/contest/1370/submission/167972298"
   ]
  },
  {
   "cell_type": "markdown",
   "metadata": {},
   "source": [
    "# Problem 2:\n",
    "https://codeforces.com/contest/1472/submission/167969988"
   ]
  }
 ],
 "metadata": {
  "kernelspec": {
   "display_name": "Python 3.10.5 64-bit (windows store)",
   "language": "python",
   "name": "python3"
  },
  "language_info": {
   "codemirror_mode": {
    "name": "ipython",
    "version": 3
   },
   "file_extension": ".py",
   "mimetype": "text/x-python",
   "name": "python",
   "nbconvert_exporter": "python",
   "pygments_lexer": "ipython3",
   "version": "3.10.5"
  },
  "orig_nbformat": 4,
  "vscode": {
   "interpreter": {
    "hash": "486e0d5a79acdbfffd563ee7a67a93a5017bd2a4f66495483a69f0245c8a4a6c"
   }
  }
 },
 "nbformat": 4,
 "nbformat_minor": 2
}
